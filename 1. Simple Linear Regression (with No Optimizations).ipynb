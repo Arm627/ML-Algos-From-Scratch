{
 "cells": [
  {
   "cell_type": "markdown",
   "metadata": {},
   "source": [
    "<h3 style=\"text-align: center;\"><b>Implementing Simple Linear Regression From Scratch (No Optimizations)</b> </h3>\n",
    "<h5 style=\"text-align: center;\"> This notebook is adapted and adds onto this wonderful tutorial by Jason Brownlee found here:\n",
    "<br><a href=\"https://machinelearningmastery.com/implement-simple-linear-regression-scratch-python/\" target=\"_blank\">https://machinelearningmastery.com/implement-simple-linear-regression-scratch-python/</a></h5>\n",
    "\n",
    "<h5 style=\"text-align: center;\"> <a href=\"https://en.wikipedia.org/wiki/Simple_linear_regression\" target=\"_blank\">https://en.wikipedia.org/wiki/Simple_linear_regression</a></h5>\n",
    "<h5 style=\"text-align: center;\">Linear regression assumes a linear or straight line relationship between the input variables (X) and the single output variable (y). </h5>\n",
    "\n",
    "<h5 style=\"text-align: center;\"><code>y = &alpha; x + &beta; </code></h5>\n",
    "<h5 style=\"text-align: center;\"> &alpha; and &beta; are estimated from the training data </h5>\n",
    "<h5 style=\"text-align: center;\"> We can estimate the coefficients as follows: </h5>\n",
    "$$ \\hat \\alpha = \\bar{y} - \\hat \\beta \\bar{x} $$\n",
    "<h5 style=\"text-align: center;\"> In code: <code>&alpha; = mean(y) - &beta; mean(x) </code></h5>\n",
    "$$ \\hat \\beta = \\frac{\\sum_{i=1}^{n} (x_i - \\bar{x})(y_i - \\bar{y})}{\\sum_{i=1}^{n} (x_i - \\bar{x})^2} $$\n",
    "<h5 style=\"text-align: center;\"> In code: <code>&beta; = sum((x(i) - mean(x)) * (y(i) - mean(y))) / sum( (x(i) - mean(x))^2 ) </code></h5>\n",
    "<h5 style=\"text-align: center;\"> Where the i refers to the value of the ith value of the input x or output y. </h5>"
   ]
  },
  {
   "cell_type": "code",
   "execution_count": 3,
   "metadata": {},
   "outputs": [
    {
     "name": "stdout",
     "output_type": "stream",
     "text": [
      "(63,) (63,)\n"
     ]
    },
    {
     "data": {
      "image/png": "[encoded data removed]",
      "text/plain": [
       "<Figure size 432x288 with 1 Axes>"
      ]
     },
     "metadata": {
      "needs_background": "light"
     },
     "output_type": "display_data"
    }
   ],
   "source": [
    "import pandas\n",
    "import matplotlib.pyplot as plt\n",
    "\n",
    "data = pandas.read_csv(\"Data\\\\linear_data.csv\")\n",
    "data_X = data['X'].to_numpy()\n",
    "data_Y = data['Y'].to_numpy()\n",
    "print(data_X.shape, data_Y.shape)\n",
    "plt.scatter(data_Y, data_X)\n",
    "plt.show()"
   ]
  },
  {
   "cell_type": "markdown",
   "metadata": {},
   "source": [
    "<h4 style=\"text-align: center;\"> 1. Calculate Mean and Variance </h4>\n",
    "\n",
    "$$ \\text{Mean: } \\bar{X} = \\frac{\\sum_{i=1}^{n} x_i}{n} $$\n",
    "<h5 style=\"text-align: center;\"> n is number of terms </h5>\n",
    "<h5 style=\"text-align: center;\"> In code: <code>mean(x) = sum(x) / count(x) </code></h5>\n",
    "<h5 style=\"text-align: center;\"><a href=\"https://en.wikipedia.org/wiki/Mean\" target=\"_blank\">https://en.wikipedia.org/wiki/Mean</a></h5>\n",
    "$$ \\text{Variance: } \\sigma^2 = \\sum_{i=1}^{n} (x_i - \\bar{x})^2 $$\n",
    "<h5 style=\"text-align: center;\"> In code: <code>&sigma; = sum(x - mean(x))**2)</code></h5>\n",
    "<h5 style=\"text-align: center;\">Variance measures how far a set of numbers are spread out from their average value.</h5>\n",
    "<h5 style=\"text-align: center;\"><a href=\"https://en.wikipedia.org/wiki/Variance\" target=\"_blank\">https://en.wikipedia.org/wiki/Variance</a></h5>"
   ]
  },
  {
   "cell_type": "code",
   "execution_count": 4,
   "metadata": {},
   "outputs": [
    {
     "name": "stdout",
     "output_type": "stream",
     "text": [
      "Mean of inputs: 22.904761904761905 Mean of outputs: 48.35079365079365\n",
      "Variance of inputs: 33809.42857142858 Variance of outputs: 156445.4174603175\n"
     ]
    }
   ],
   "source": [
    "\"\"\"\n",
    "1. Mean and Variance\n",
    "\"\"\"\n",
    "from math import pow, sqrt\n",
    "def _mean(values):\n",
    "    \"\"\"\n",
    "    Input 1d array (values) -> Output a scalar value, the mean\n",
    "    \"\"\"\n",
    "    return (sum(values) / float(len(values)))\n",
    "\n",
    "def _variance(values, mean):\n",
    "    \"\"\"\n",
    "    Input 1d array (values) and scalar value (mean) -> Output scalar value, the variance\n",
    "    \"\"\"\n",
    "    var = []\n",
    "    for x in values:\n",
    "        var.append(pow((x - mean), 2))\n",
    "    return sum(var)\n",
    "\n",
    "mean_x = _mean(data_X)\n",
    "mean_y = _mean(data_Y)\n",
    "print(\"Mean of inputs:\", mean_x, \"Mean of outputs:\", mean_y)\n",
    "print(\"Variance of inputs:\", _variance(data_X, mean_x), \"Variance of outputs:\", _variance(data_Y, mean_y))"
   ]
  },
  {
   "cell_type": "markdown",
   "metadata": {},
   "source": [
    "<h4 style=\"text-align: center;\"> 2. Calculate Covariance </h4>\n",
    "<h5 style=\"text-align: center;\">The covariance of two groups of numbers describes how those numbers change together.</h5>\n",
    "<h5 style=\"text-align: center;\">Covariance is a generalization of correlation. Correlation describes the relationship between two groups of numbers, whereas covariance can describe the relationship between two or more groups of numbers.</h5>\n",
    "<h5 style=\"text-align: center;\">Additionally, covariance can be normalized to produce a correlation value.</h5>\n",
    "$$ \\text{cov =} \\sum_{i=1}^{n} (x_i - \\bar{x})(y_i - \\bar{y}) $$\n",
    "<h5 style=\"text-align: center;\">In code: <code>cov = sum((x(i) - mean(x)) * (y(i) - mean(y)))</code></h5>\n",
    "<h5 style=\"text-align: center;\"><a href=\"https://en.wikipedia.org/wiki/Covariance\" target=\"_blank\">https://en.wikipedia.org/wiki/Covariance</a><h5>"
   ]
  },
  {
   "cell_type": "code",
   "execution_count": 5,
   "metadata": {},
   "outputs": [
    {
     "name": "stdout",
     "output_type": "stream",
     "text": [
      "Covariance: 70191.20476190475\n"
     ]
    }
   ],
   "source": [
    "\"\"\"\n",
    "2. Covariance\n",
    "\"\"\"\n",
    "def _covariance(x, mean_x, y, mean_y):\n",
    "    \"\"\"\n",
    "    Input 1d array (x), Input 1d array (y), a scalar the mean of the x's (mean_x) and the mean of the y's (mean_y) -> a scalar the covariance\n",
    "    \"\"\"\n",
    "    cov = 0\n",
    "    for i in range(len(x)):\n",
    "        cov += (x[i] - mean_x) * (y[i] - mean_y)\n",
    "    return cov\n",
    "covar = _covariance(data_X, mean_x, data_Y, mean_y)\n",
    "print(\"Covariance:\", covar)"
   ]
  },
  {
   "cell_type": "markdown",
   "metadata": {},
   "source": [
    "<h4 style=\"text-align: center;\"> 3. Calculate Coefficients, RMSE, and R^2 </h4><br>\n",
    "<h5 style=\"text-align: center;\"> Coefficients </h5><br>\n",
    "$$ \\hat \\beta = \\frac{\\sum_{i=1}^{n} (x_i - \\bar{x})(y_i - \\bar{y})}{\\sum_{i=1}^{n} (x_i - \\bar{x})^2} $$\n",
    "<h5 style=\"text-align: center;\"> In code: <code>&beta; = sum((x(i) - mean(x)) * (y(i) - mean(y))) / sum( (x(i) - mean(x))^2 )</code></h5><br>\n",
    "$$ \\hat \\beta \\text{=} \\frac{covariance(x, y)}{variance(x)} $$\n",
    "<h5 style=\"text-align: center;\"> In code: <code>&beta; = covariance(x, y) / variance(x)</code></h5><br>\n",
    "$$ \\hat \\alpha \\text{ = } \\bar{y} - \\hat \\beta \\bar{x} $$\n",
    "<h5 style=\"text-align: center;\">In code: <code>&alpha; = mean(y) - &beta; * mean(x)</code></h5>\n",
    "<h5 style=\"text-align: center;\"> RMSE </h5><br>\n",
    "$$ \\text{rmse} = \\sqrt{\\frac{\\sum_{i=1}^{n} (\\hat{y_i} - y_i)^2}{n}} $$ \n",
    "<h5 style=\"text-align: center;\"> In code: <code> rmse = sqrt(sum((y_pred - y_actual)**2)/n) </code></h5>\n",
    "<h5 style=\"text-align: center;\"><a href=\"https://en.wikipedia.org/wiki/Root-mean-square_deviation\" target=\"_blank\">https://en.wikipedia.org/wiki/Root-mean-square_deviation</a></h5><br>\n",
    "$$ R^2 $$\n",
    "<h5 style=\"text-align: center;\"> The coefficient of determination, denoted R2 or r2 and pronounced \"R squared\", is the proportion of the variance in the dependent variable that is predictable from the independent variable(s). </h5>\n",
    "$$ R^2 = 1 - \\frac{\\sum_{i=1}^{n} (y_i - \\hat{y_i})^2}{\\sum_{i=1}^{n} (y_i - \\bar{y_i})^2} $$\n",
    "$$ \\text{The numerator is the variance and the denomenator the } y_i \\text{ is the } i^{th} \\text{ value of the variable to be predicted and } \\hat{y_i} \\text{ is the predicted value.} $$\n",
    "<h5 style=\"text-align: center;\">In code: <code>1 - (sum((y - mean(y))**2)) / (sum((x - y_pred))**2)"
   ]
  },
  {
   "cell_type": "code",
   "execution_count": 6,
   "metadata": {},
   "outputs": [
    {
     "name": "stdout",
     "output_type": "stream",
     "text": [
      "Alpha: 0.798589996028177 Beta: 2.076083735447141\n"
     ]
    }
   ],
   "source": [
    "\"\"\"\n",
    "3. Coefficients, RMSE and Evaluation\n",
    "\"\"\"\n",
    "def _coefficients(X, Y):\n",
    "    \"\"\"\n",
    "    Input 1d array (X) and 1d array (Y) -> Output alpha and beta scalar coefficients\n",
    "    \"\"\"\n",
    "    x_mean, y_mean = _mean(X), _mean(Y)\n",
    "    beta = _covariance(X, x_mean, Y, y_mean) / _variance(X, x_mean)\n",
    "    alpha = y_mean - beta * x_mean\n",
    "    return alpha, beta\n",
    "alpha, beta = _coefficients(data_X, data_Y)\n",
    "print(\"Alpha:\", alpha, \"Beta:\",beta)\n",
    "\n",
    "def _rmse(actual, predicted):\n",
    "    \"\"\"\n",
    "    Input 1d array (actual) and 1d array (predicted) -> Output scalar rmse error\n",
    "    \"\"\"\n",
    "    sum_error = 0.0\n",
    "    for i in range(len(actual)):\n",
    "        sum_error += pow(predicted[i] - actual[i], 2)\n",
    "    return sqrt((sum_error / float(len(actual))))\n",
    "\n",
    "def _r_squared(X, Y, predictions):\n",
    "    \"\"\"\n",
    "    Input 1d array (X) and 1d array (Y) and 1d array (predictions) -> Output scalar R^2\n",
    "    \"\"\"\n",
    "    var = _variance(Y, _mean(Y))\n",
    "    denomenator = 0.0\n",
    "    predictions = []\n",
    "    for i in range(len(data_X)):\n",
    "        predictions.append(predict(data_X, data_Y, data_X[i]))\n",
    "    for i in range(len(X)):\n",
    "        denomenator += pow((X[i] - predictions[i]), 2)\n",
    "    r_square = 1 - (var / denomenator)\n",
    "    return r_square"
   ]
  },
  {
   "cell_type": "markdown",
   "metadata": {},
   "source": [
    "<h4 style=\"text-align: center;\"> 4. Calculate Coefficients </h4>\n",
    "<h5 style=\"text-align: center;\"><code>y = &alpha; x + &beta; </code></h5>"
   ]
  },
  {
   "cell_type": "code",
   "execution_count": 7,
   "metadata": {},
   "outputs": [],
   "source": [
    "\"\"\"\n",
    "4. Predict\n",
    "\"\"\"\n",
    "def _predict(X, Y, pred):\n",
    "    \"\"\"\n",
    "    Input 1d array (train) and 1d array (test)\n",
    "    \"\"\"\n",
    "    beta, alpha = _coefficients(X, Y)\n",
    "    y_hat = beta + alpha * pred\n",
    "    return y_hat"
   ]
  },
  {
   "cell_type": "markdown",
   "metadata": {},
   "source": [
    "<h5 style=\"text-align: center;\">Putting this all together with inspiration from <a href=\"https://scikit-learn.org/stable/modules/generated/sklearn.linear_model.LinearRegression.html\" target=\"_blank\">Sklearn Linear Regression</a></h5>"
   ]
  },
  {
   "cell_type": "code",
   "execution_count": 8,
   "metadata": {},
   "outputs": [],
   "source": [
    "from math import pow, sqrt\n",
    "class LinearRegressionUtils:\n",
    "    def mean(self, values):\n",
    "        \"\"\"\n",
    "        Input 1d array (values) -> Output a scalar value, the mean\n",
    "        \"\"\"\n",
    "        return (sum(values) / float(len(values)))\n",
    "\n",
    "    def variance(self, values, mean):\n",
    "        \"\"\"\n",
    "        Input 1d array (values) and scalar value (mean) -> Output scalar value, the variance\n",
    "        \"\"\"\n",
    "        var = []\n",
    "        for x in values:\n",
    "            var.append(pow((x - mean), 2))\n",
    "        return sum(var)\n",
    "    \n",
    "    def covariance(self, x, mean_x, y, mean_y):\n",
    "        \"\"\"\n",
    "        Input 1d array (x), Input 1d array (y), a scalar the mean of the x's (mean_x) and the mean of the y's (mean_y) -> a scalar the covariance\n",
    "        \"\"\"\n",
    "        cov = 0\n",
    "        for i in range(len(x)):\n",
    "            cov += (x[i] - mean_x) * (y[i] - mean_y)\n",
    "        return cov\n",
    "    \n",
    "    def coefficients(self, X, Y):\n",
    "        \"\"\"\n",
    "        Input 1d array (X) and 1d array (Y) -> Output alpha and beta scalar coefficients\n",
    "        \"\"\"\n",
    "        x_mean, y_mean = self.mean(X), self.mean(Y)\n",
    "        beta = self.covariance(X, x_mean, Y, y_mean) / self.variance(X, x_mean)\n",
    "        alpha = y_mean - beta * x_mean\n",
    "        return alpha, beta\n",
    "    \n",
    "    def rmse(self, actual, predicted):\n",
    "        \"\"\"\n",
    "        Input 1d array (actual) and 1d array (predicted) -> Output scalar rmse error\n",
    "        \"\"\"\n",
    "        sum_error = 0.0\n",
    "        for i in range(len(actual)):\n",
    "            sum_error += pow(predicted[i] - actual[i], 2)\n",
    "        return sqrt((sum_error / float(len(actual))))\n",
    "\n",
    "    def r_squared(self, X, Y, predictions):\n",
    "        \"\"\"\n",
    "        Input 1d array (X) and 1d array (Y) and 1d array (predictions) -> Output scalar R^2\n",
    "        \"\"\"\n",
    "        var = self.variance(Y, self.mean(Y))\n",
    "        denomenator = 0.0\n",
    "        for i in range(len(X)):\n",
    "            denomenator += pow((X[i] - predictions[i]), 2)\n",
    "        r_square = 1 - (var / denomenator)\n",
    "        return r_square\n",
    "\n",
    "class LinearRegression(LinearRegressionUtils):\n",
    "    \"\"\"\n",
    "    Demo Linear Regression Class\n",
    "    \"\"\"\n",
    "    def fit(self, X, Y):\n",
    "        self.X = X\n",
    "        self.Y = Y\n",
    "        self.intercept_, self.coef_ = LinearRegressionUtils.coefficients(self, self.X, self.Y)\n",
    "        self.train_predicts = []\n",
    "        for i in range(len(X)):\n",
    "            self.train_predicts.append(self.predict(X[i]))\n",
    "        \n",
    "    def predict(self, x):\n",
    "        return self.intercept_ + self.coef_*x\n",
    "    \n",
    "    def score(self, X=None, Y=None):\n",
    "        if X == None and Y == None:\n",
    "            return LinearRegressionUtils.r_squared(self, self.X, self.Y, self.train_predicts)\n",
    "        else:\n",
    "            pass # add later\n",
    "        \n",
    "    def rmse(self):\n",
    "        return LinearRegressionUtils.rmse(self.Y, self.train_predicts)"
   ]
  },
  {
   "cell_type": "code",
   "execution_count": 9,
   "metadata": {},
   "outputs": [
    {
     "name": "stdout",
     "output_type": "stream",
     "text": [
      "R^2: -0.9569774485515175\n",
      "Alpha: 2.076083735447141\n",
      "Beta: 0.798589996028177\n",
      "Prediction: 71.38543700123097\n",
      "\n",
      "\n",
      "R^2: 0.71875\n",
      "Alhpa: 3.0\n",
      "Beta: 0.0\n",
      "[[ 9. 15.]]\n"
     ]
    }
   ],
   "source": [
    "\"\"\"\n",
    "Test\n",
    "\"\"\"\n",
    "import numpy as np\n",
    "reg = LinearRegression()\n",
    "reg.fit(data_X, data_Y)\n",
    "print(\"R^2:\", reg.score())\n",
    "print(\"Alpha:\", reg.coef_)\n",
    "print(\"Beta:\", reg.intercept_)\n",
    "print(\"Prediction:\", reg.predict(34))\n",
    "print(\"\\n\")\n",
    "reg2 = LinearRegression()\n",
    "X = [1, 1, 1, 2, 2, 2, 2, 3]\n",
    "y = [3, 3, 3, 6, 6, 6, 6, 9]\n",
    "reg2.fit(X, y)\n",
    "print(\"R^2:\", reg2.score())\n",
    "print(\"Alhpa:\", reg2.coef_)\n",
    "print(\"Beta:\", reg2.intercept_)\n",
    "print(reg2.predict(np.array([[3, 5]])))"
   ]
  },
  {
   "cell_type": "code",
   "execution_count": 22,
   "metadata": {},
   "outputs": [
    {
     "name": "stdout",
     "output_type": "stream",
     "text": [
      "1.0\n",
      "[[3.]]\n",
      "[8.8817842e-16]\n",
      "[[9.]] [[15.]]\n"
     ]
    }
   ],
   "source": [
    "\"\"\"\n",
    "TODO: as can be seen our code is correct except for R^2 which is off (see issue 1)\n",
    "\"\"\"\n",
    "from sklearn.linear_model import LinearRegression\n",
    "X = np.array(X).reshape(-1, 1)\n",
    "y = np.array(y).reshape(-1, 1)\n",
    "reg3 = LinearRegression().fit(X, y)\n",
    "print(reg3.score(X, y))\n",
    "print(reg3.coef_)\n",
    "print(reg3.intercept_)\n",
    "p_3 = np.array(3).reshape(1, -1)\n",
    "p_5 = np.array(5).reshape(1, -1)\n",
    "print(reg3.predict(p_3), reg3.predict(p_5))"
   ]
  }
 ],
 "metadata": {
  "kernelspec": {
   "display_name": "Python 3",
   "language": "python",
   "name": "python3"
  },
  "language_info": {
   "codemirror_mode": {
    "name": "ipython",
    "version": 3
   },
   "file_extension": ".py",
   "mimetype": "text/x-python",
   "name": "python",
   "nbconvert_exporter": "python",
   "pygments_lexer": "ipython3",
   "version": "3.6.8"
  }
 },
 "nbformat": 4,
 "nbformat_minor": 4
}
