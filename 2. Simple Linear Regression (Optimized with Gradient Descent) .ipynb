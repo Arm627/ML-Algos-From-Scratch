{
 "cells": [
  {
   "cell_type": "markdown",
   "metadata": {},
   "source": [
    "<h3 style=\"text-align: center;\"><b>Implementing Simple Linear Regression From Scratch (with Gradient Descent)</b> </h3>\n",
    "<h5 style=\"text-align: center;\"> This notebook is adapted and adds onto this wonderful tutorial by Arseniy Tyurin found here:\n",
    "<br><a href=\"https://towardsdatascience.com/gradient-descent-from-scratch-e8b75fa986cc/\" target=\"_blank\">https://towardsdatascience.com/gradient-descent-from-scratch-e8b75fa986cc/</a></h5>\n",
    "\n",
    "<h5 style=\"text-align: center;\"> <a href=\"https://en.wikipedia.org/wiki/Simple_linear_regression\" target=\"_blank\">https://en.wikipedia.org/wiki/Simple_linear_regression</a></h5>\n",
    "<h5 style=\"text-align: center;\"> <a href=\"https://en.wikipedia.org/wiki/Gradient_descent\" target=\"_blank\">https://en.wikipedia.org/wiki/Gradient_descent</a></h5>\n",
    "<h5 style=\"text-align: center;\">This notebook is similiar to Notebook 1, except it uses Gradient Descent</h5>\n",
    "<h5 style=\"text-align: center;\">We still have <code>y = &alpha; x + &beta; </code></h5>\n",
    "<h5 style=\"text-align: center;\">But now we estimate the coeffiecients not by rewriting the formula, but by writing it in terms of a function f(&alpha;,&beta;) where &alpha; and &beta; are that in the formula.</h5>\n",
    "<h5 style=\"text-align: center;\">The formula we are going to make as a function is Mean Squared Error which is the square of RMSE we explored in the previous notebook</h5>\n",
    "$$ \\text{MSE = } \\frac{1}{n} \\sum_{i=1}^{n} (y_i - \\hat{y_i})^2 $$\n",
    "$$ \\text{Where } \\hat{y_i} \\text{ we know to be } \\hat{y_i} = \\alpha x + \\beta $$\n",
    "$$ \\text{This derives to } f(\\alpha, \\beta) = \\frac{1}{n} \\sum_{i=1}^{n} (y_i - \\alpha x_i - \\beta)^2 $$\n",
    "$$ \\text{We want to take the min of this; so, } \\min_{\\alpha, \\beta}f(\\alpha, \\beta) $$\n",
    "$$ \\text{We now want to take the partial deriv with respect to } \\alpha \\text{ and } \\beta $$\n",
    "$$ \\frac{\\partial f}{\\partial \\alpha} = \\frac{1}{n} \\sum_{i=1}^{n} -2x_i(y_i - \\alpha x_i - \\beta) \\text{ and} $$\n",
    "<h5 style=\"text-align: center;\">In code:<code>(-2*sum(X*(Y - alpha*X - beta))) / n</code></h5>\n",
    "$$ \\frac{\\partial f}{\\partial \\beta} = \\frac{1}{n} \\sum_{i=1}^{n} -2(y_i - \\alpha x_i - \\beta) $$\n",
    "<h5 style=\"text-align: center;\">In code:<code>(-2*sum((Y - alpha*X - beta))) / n</code></h5>\n",
    "<h5 style=\"text-align: center;\">We then multiply it by some learning rate and subtract it from the previous alpha and beta</h5><h5 style=\"text-align: center;\">The reason we subtract is because we are trying to minimze the error function. If we wanted to maximize it we would add the partials to the previous alpha and beta. <a href=\"https://medium.com/@aerinykim/why-do-we-subtract-the-slope-a-in-gradient-descent-73c7368644fa\" target=\"_blank\">This post</a> by Aerin Kim goes into a little more detail.</h5>\n",
    "<h5 style=\"text-align: center;\">We do this for e number of epochs and pretty soon we converge to an optimal minima.</h5>"
   ]
  },
  {
   "cell_type": "code",
   "execution_count": 150,
   "metadata": {},
   "outputs": [
    {
     "name": "stdout",
     "output_type": "stream",
     "text": [
      "0.9966594980280533 1.0075937461661377\n"
     ]
    },
    {
     "data": {
      "image/png": "[encoded data removed]",
      "text/plain": [
       "<Figure size 432x288 with 1 Axes>"
      ]
     },
     "metadata": {
      "needs_background": "light"
     },
     "output_type": "display_data"
    }
   ],
   "source": [
    "from random import random\n",
    "import numpy as np\n",
    "import matplotlib.pyplot as plt\n",
    "\n",
    "def gradient_descent_for_linear_regression(X, Y, lr=0.05, epochs=1000):\n",
    "    alpha = random()\n",
    "    beta = random()\n",
    "    n = len(X)\n",
    "    mse_details = []\n",
    "    for _ in range(epochs):\n",
    "        partial_of_alpha = (-2*sum(X*(Y - alpha*X - beta))) / n\n",
    "        partial_of_beta = (-2*sum((Y - alpha*X - beta))) / n\n",
    "        alpha -= lr*partial_of_alpha\n",
    "        beta -= lr*partial_of_beta\n",
    "        mse_details.append(sum((Y - alpha*X - beta)**2)/n)\n",
    "    print(alpha, beta)\n",
    "    return alpha, beta, mse_details\n",
    "\n",
    "X = np.array([1, 2, 3])\n",
    "Y = np.array([2, 3, 4])\n",
    "\n",
    "epochs = 200\n",
    "alpha, beta, mse = gradient_descent_for_linear_regression(X, Y, epochs=epochs)\n",
    "\n",
    "epochs_array = [x for x in range(epochs)]\n",
    "plt.plot(epochs_array, mse)\n",
    "plt.show()\n",
    "\n",
    "\"\"\"\n",
    "TODO: For some reason if a lot more data is added the program overflows. I think this is because \n",
    " the way the program is mulitplying is very ineffienct so in real life these should be numpy multiplications \n",
    " which should be far more efficient. For this demo tho that is not necessary (see issue 2)\n",
    "\"\"\""
   ]
  },
  {
   "cell_type": "code",
   "execution_count": 163,
   "metadata": {},
   "outputs": [],
   "source": [
    "class LinearRegressionUtils:\n",
    "    def coefficients(self, X, Y, lr, epochs):\n",
    "        alpha = random()\n",
    "        beta = random()\n",
    "        n = len(X)\n",
    "        for _ in range(epochs):\n",
    "            partial_of_alpha = (-2*sum(X*(Y - alpha*X - beta))) / n\n",
    "            partial_of_beta = (-2*sum((Y - alpha*X - beta))) / n\n",
    "            alpha -= lr*partial_of_alpha\n",
    "            beta -= lr*partial_of_beta\n",
    "        return alpha, beta\n",
    "    \n",
    "class LinearRegression(LinearRegressionUtils):\n",
    "    \"\"\"\n",
    "    Demo Linear Regression class using Gradient Descent\n",
    "    \"\"\"\n",
    "    def fit(self, X, Y, lr=0.05, epochs=1000):\n",
    "        \"\"\"\n",
    "        X and Y to fit, lr = learning rate, epochs = num epochs to iterate over\n",
    "        \"\"\"\n",
    "        self.X = X\n",
    "        self.Y = Y\n",
    "        self.lr = lr\n",
    "        self.epochs = epochs\n",
    "        self.coef_, self.intercept_ = LinearRegressionUtils.coefficients(self, X=self.X, Y=self.Y, lr=self.lr, epochs=self.epochs)\n",
    "        self.predictions = []\n",
    "        for i in range(len(self.X)):\n",
    "            self.predictions.append(self.predict(self.X[i]))\n",
    "        \n",
    "    def predict(self, x):\n",
    "        return self.intercept_ + self.coef_ * x"
   ]
  },
  {
   "cell_type": "code",
   "execution_count": 170,
   "metadata": {},
   "outputs": [
    {
     "name": "stdout",
     "output_type": "stream",
     "text": [
      "Alpha: 1.0000010414609357\n",
      "Beta: 0.9999976325144981\n",
      "Prediction: 35.00003304218632\n"
     ]
    }
   ],
   "source": [
    "X = np.array([1, 2, 3])\n",
    "Y = np.array([2, 3, 4])\n",
    "reg = LinearRegression()\n",
    "reg.fit(X, Y)\n",
    "print(\"Alpha:\", reg.coef_)\n",
    "print(\"Beta:\", reg.intercept_)\n",
    "print(\"Prediction:\", reg.predict(34))"
   ]
  },
  {
   "cell_type": "code",
   "execution_count": 175,
   "metadata": {},
   "outputs": [
    {
     "name": "stdout",
     "output_type": "stream",
     "text": [
      "Alpha: [[1.]]\n",
      "Beta: [1.]\n",
      "Prediction: [[35.]]\n"
     ]
    }
   ],
   "source": [
    "from sklearn.linear_model import LinearRegression\n",
    "X = np.array(X).reshape(-1, 1)\n",
    "y = np.array(Y).reshape(-1, 1)\n",
    "reg2 = LinearRegression().fit(X, y)\n",
    "print(\"Alpha:\", reg2.coef_)\n",
    "print(\"Beta:\", reg2.intercept_)\n",
    "print(\"Prediction:\", reg2.predict(np.array(34).reshape(1, -1)))"
   ]
  }
 ],
 "metadata": {
  "kernelspec": {
   "display_name": "Python 3",
   "language": "python",
   "name": "python3"
  },
  "language_info": {
   "codemirror_mode": {
    "name": "ipython",
    "version": 3
   },
   "file_extension": ".py",
   "mimetype": "text/x-python",
   "name": "python",
   "nbconvert_exporter": "python",
   "pygments_lexer": "ipython3",
   "version": "3.6.8"
  }
 },
 "nbformat": 4,
 "nbformat_minor": 4
}
