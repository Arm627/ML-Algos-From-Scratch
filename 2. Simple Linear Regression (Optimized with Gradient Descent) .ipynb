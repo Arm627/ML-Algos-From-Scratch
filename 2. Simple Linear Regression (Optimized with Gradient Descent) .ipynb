{
 "cells": [
  {
   "cell_type": "markdown",
   "metadata": {},
   "source": [
    "<h3 style=\"text-align: center;\"><b>Implementing Simple Linear Regression From Scratch (with Gradient Descent)</b> </h3>\n",
    "<h5 style=\"text-align: center;\"> This notebook is adapted and adds onto this wonderful tutorial by Arseniy Tyurin found here:\n",
    "<br><a href=\"https://towardsdatascience.com/gradient-descent-from-scratch-e8b75fa986cc/\" target=\"_blank\">https://towardsdatascience.com/gradient-descent-from-scratch-e8b75fa986cc/</a></h5>\n",
    "\n",
    "<h5 style=\"text-align: center;\"> <a href=\"https://en.wikipedia.org/wiki/Simple_linear_regression\" target=\"_blank\">https://en.wikipedia.org/wiki/Simple_linear_regression</a></h5>\n",
    "<h5 style=\"text-align: center;\">This notebook is similiar to Notebook 1, except it uses Gradient Descent</h5>\n",
    "<h5 style=\"text-align: center;\">We still have <code>y = &alpha; x + &beta; </code></h5>\n",
    "<h5 style=\"text-align: center;\">But now we estimate the coeffiecients not by rewriting the formula, but by writing it in terms of a function f(&alpha;,&beta;) where &alpha; and &beta; are that in the formula.</h5>\n",
    "<h5 style=\"text-align: center;\">The formula we are going to make as a function is Mean Squared Error which is the square of RMSE we explored in the previous notebook</h5>\n",
    "$$ \\text{MSE = } \\frac{1}{n} \\sum_{i=1}^{n} (y_i - \\hat{y_i})^2 $$\n",
    "$$ \\text{Where } \\hat{y_i} \\text{ we know to be } \\hat{y_i} = \\alpha x + \\beta $$\n",
    "$$ \\text{This derives to } f(\\alpha, \\beta) = \\frac{1}{n} \\sum_{i=1}^{n} (y_i - \\alpha x_i - \\beta)^2 $$\n",
    "$$ \\text{We want to take the min of this; so, } \\min_{\\alpha, \\beta}f(\\alpha, \\beta) $$\n",
    "$$ \\text{We now want to take the partial deriv with respect to } \\alpha \\text{ and } \\beta $$\n",
    "$$ \\frac{\\partial f}{\\partial \\alpha} = \\frac{1}{n} \\sum_{i=1}^{n} -2x_i(y_i - \\alpha x_i - \\beta) \\text{ and} $$\n",
    "$$ \\frac{\\partial f}{\\partial \\beta} = \\frac{1}{n} \\sum_{i=1}^{n} -2(y_i - \\alpha x_i - \\beta) $$"
   ]
  },
  {
   "cell_type": "code",
   "execution_count": null,
   "metadata": {},
   "outputs": [],
   "source": []
  }
 ],
 "metadata": {
  "kernelspec": {
   "display_name": "Python 3",
   "language": "python",
   "name": "python3"
  },
  "language_info": {
   "codemirror_mode": {
    "name": "ipython",
    "version": 3
   },
   "file_extension": ".py",
   "mimetype": "text/x-python",
   "name": "python",
   "nbconvert_exporter": "python",
   "pygments_lexer": "ipython3",
   "version": "3.6.8"
  }
 },
 "nbformat": 4,
 "nbformat_minor": 4
}
