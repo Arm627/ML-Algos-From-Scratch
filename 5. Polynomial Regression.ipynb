{
 "cells": [
  {
   "cell_type": "markdown",
   "metadata": {},
   "source": [
    "<h3 style=\"text-align: center;\"><b>Implementing Polynomial Regression From Scratch</b></h3>\n",
    "<h5 style=\"text-align: center;\">This notebook follows the intuition from GeeksforGeeks <a href=\"https://www.geeksforgeeks.org/python-implementation-of-polynomial-regression/\">https://www.geeksforgeeks.org/python-implementation-of-polynomial-regression/</a> as well as the tutorial from <a href=\"https://rickwierenga.com/blog/ml-fundamentals/polynomial-regression.html\" target=\"_blank\">https://rickwierenga.com/blog/ml-fundamentals/polynomial-regression.html</a></h5>\n",
    "<h5 style=\"text-align: center;\">We explored linear regression simply being y = &alpha;x + &beta;. However, this is only for linear relationships of data. There are relationships between dependent and independent variables that are non- linear so we can use polynomial regression. </h5>\n",
    "$$ \\text{The generel form of polynomial regression can be modeled like this: } h_\\theta(x) = \\theta^T = \\theta_0 +\\theta_1x + \\theta_2x^2 + ... + \\theta_nx^n $$\n",
    "<h5 style=\"text-align: center;\">To find the best coefficients we use:</h5>\n",
    "$$ \\vec{\\theta} = (X^TX)^{-1}X^TY $$\n",
    "<h5 style=\"text-align: center;\">This is rather inefficient though so using gradient descent usually Mean Squared Error is the best course of action</h5>\n",
    "<h5 style=\"text-align: center;\">Gradient descent</h5>\n",
    "$$ J(\\theta) = \\frac{1}{n} \\sum_{i=1}^{n} (h_\\theta(x^i) - y^i)^2 $$"
   ]
  },
  {
   "cell_type": "markdown",
   "metadata": {},
   "source": [
    "<h5 style=\"text-align: center\">The h_&theta;(x) can be implemented in code like:</h5>"
   ]
  },
  {
   "cell_type": "code",
   "execution_count": 2,
   "metadata": {},
   "outputs": [],
   "source": [
    "import numpy as np\n",
    "import matplotlib.pyplot as plt\n",
    "def h(X, theta):\n",
    "    return np.dot(X, theta)"
   ]
  },
  {
   "cell_type": "markdown",
   "metadata": {},
   "source": [
    "<h5 style=\"text-align: center;\">The Gradiant is Calculated as Before</h5>"
   ]
  },
  {
   "cell_type": "code",
   "execution_count": 3,
   "metadata": {},
   "outputs": [
    {
     "name": "stdout",
     "output_type": "stream",
     "text": [
      "10 1\n",
      "(10,)\n"
     ]
    },
    {
     "data": {
      "text/plain": [
       "<matplotlib.collections.PathCollection at 0x209f2e47be0>"
      ]
     },
     "execution_count": 3,
     "metadata": {},
     "output_type": "execute_result"
    },
    {
     "data": {
      "image/png": "[encoded data removed]",
      "text/plain": [
       "<Figure size 432x288 with 1 Axes>"
      ]
     },
     "metadata": {
      "needs_background": "light"
     },
     "output_type": "display_data"
    }
   ],
   "source": [
    "X = np.array([[1, 2, 3, 4, 5, 6, 7, 8, 9, 10]]).T\n",
    "y = np.array([2, 4, 9, 16, 25, 36, 49, 64, 81, 100])\n",
    "m, n = X.shape\n",
    "print(m, n)\n",
    "print(y.shape)\n",
    "plt.scatter(X, y)"
   ]
  },
  {
   "cell_type": "code",
   "execution_count": 4,
   "metadata": {},
   "outputs": [
    {
     "data": {
      "text/plain": [
       "array([[1.],\n",
       "       [1.],\n",
       "       [1.],\n",
       "       [1.],\n",
       "       [1.],\n",
       "       [1.],\n",
       "       [1.],\n",
       "       [1.],\n",
       "       [1.],\n",
       "       [1.]])"
      ]
     },
     "execution_count": 4,
     "metadata": {},
     "output_type": "execute_result"
    }
   ],
   "source": [
    "ones = np.ones((m, 1))\n",
    "ones"
   ]
  },
  {
   "cell_type": "code",
   "execution_count": 5,
   "metadata": {},
   "outputs": [
    {
     "name": "stdout",
     "output_type": "stream",
     "text": [
      "[[ 1.  1.]\n",
      " [ 1.  2.]\n",
      " [ 1.  3.]\n",
      " [ 1.  4.]\n",
      " [ 1.  5.]\n",
      " [ 1.  6.]\n",
      " [ 1.  7.]\n",
      " [ 1.  8.]\n",
      " [ 1.  9.]\n",
      " [ 1. 10.]]\n"
     ]
    },
    {
     "data": {
      "text/plain": [
       "(10, 2)"
      ]
     },
     "execution_count": 5,
     "metadata": {},
     "output_type": "execute_result"
    }
   ],
   "source": [
    "\"\"\"\n",
    "This just adds the array of 1s to X\n",
    "https://numpy.org/doc/stable/reference/generated/numpy.hstack.html\n",
    "\"\"\"\n",
    "X = np.hstack((ones, X))\n",
    "print(X)\n",
    "X.shape"
   ]
  },
  {
   "cell_type": "code",
   "execution_count": 6,
   "metadata": {},
   "outputs": [
    {
     "name": "stdout",
     "output_type": "stream",
     "text": [
      "[  1.   4.   9.  16.  25.  36.  49.  64.  81. 100.]\n",
      "[[  1.]\n",
      " [  4.]\n",
      " [  9.]\n",
      " [ 16.]\n",
      " [ 25.]\n",
      " [ 36.]\n",
      " [ 49.]\n",
      " [ 64.]\n",
      " [ 81.]\n",
      " [100.]]\n",
      "(10, 5)\n"
     ]
    }
   ],
   "source": [
    "\"\"\"\n",
    "For degree = 3 polynomials \n",
    "\"\"\"\n",
    "print(X[:, 1]**2)\n",
    "print((X[:, 1]**2).reshape((m, 1)))\n",
    "X = np.hstack((\n",
    "    X,\n",
    "    (X[:, 1] ** 2).reshape((m, 1)),\n",
    "    (X[:, 1] ** 3).reshape((m, 1)),\n",
    "    (X[:, 1] ** 4).reshape((m, 1))\n",
    "))\n",
    "print(X.shape)\n",
    "m, n = X.shape"
   ]
  },
  {
   "cell_type": "code",
   "execution_count": 7,
   "metadata": {},
   "outputs": [],
   "source": [
    "def grad(x, Y, epochs=50):\n",
    "    alpha = 0.01\n",
    "    theta = np.random.random(n)\n",
    "    for _ in range(epochs):\n",
    "        theta = theta - alpha * (1/m) * np.dot(x.T, (np.dot(x, theta) - Y))\n",
    "        #theta = theta - alpha * (1/m) * (x.T @ ((x @ theta) - Y))\n",
    "        print(theta)\n",
    "    return theta"
   ]
  },
  {
   "cell_type": "code",
   "execution_count": 8,
   "metadata": {},
   "outputs": [
    {
     "name": "stdout",
     "output_type": "stream",
     "text": [
      "[-1.28705630e+01 -1.18854222e+02 -1.06529750e+03 -9.72163307e+03\n",
      " -9.00931951e+04]\n",
      "[2.31214317e+06 2.01442611e+07 1.80413919e+08 1.64838538e+09\n",
      " 1.52892690e+10]\n",
      "[-3.92377696e+11 -3.41854487e+12 -3.06168228e+13 -2.79736364e+14\n",
      " -2.59463913e+15]\n",
      "[6.65877826e+16 5.80138282e+17 5.19577530e+18 4.74721790e+19\n",
      " 4.40318775e+20]\n",
      "[-1.13001652e+22 -9.84513702e+22 -8.81740119e+23 -8.05618456e+24\n",
      " -7.47235410e+25]\n",
      "[1.91767512e+27 1.67075206e+28 1.49634192e+29 1.36716096e+30\n",
      " 1.26808301e+31]\n",
      "[-3.25435761e+32 -2.83532108e+33 -2.53934134e+34 -2.32011701e+35\n",
      " -2.15197849e+36]\n",
      "[5.52275166e+37 4.81163291e+38 4.30934558e+39 3.93731470e+40\n",
      " 3.65197811e+41]\n",
      "[-9.37229080e+42 -8.16549895e+43 -7.31310087e+44 -6.68175226e+45\n",
      " -6.19752670e+46]\n",
      "[1.59050851e+48 1.38571197e+49 1.24105722e+50 1.13391529e+51\n",
      " 1.05174062e+52]\n",
      "[1.17908748e+52 1.77875549e+53 8.83685727e+53 2.76706927e+54\n",
      " 6.71829180e+54 1.38800367e+55 2.56474050e+55 4.36679156e+55\n",
      " 6.98415051e+55 1.06320528e+56]\n",
      "[  2   4   9  16  25  36  49  64  81 100]\n"
     ]
    }
   ],
   "source": [
    "theta = grad(X, y, 10)\n",
    "prediction = h(X, theta)\n",
    "print(prediction)\n",
    "print(y)"
   ]
  },
  {
   "cell_type": "code",
   "execution_count": 14,
   "metadata": {},
   "outputs": [
    {
     "data": {
      "image/png": "[encoded data removed]",
      "text/plain": [
       "<Figure size 432x288 with 1 Axes>"
      ]
     },
     "metadata": {
      "needs_background": "light"
     },
     "output_type": "display_data"
    }
   ],
   "source": [
    "\"\"\"\n",
    "Now for practical usage\n",
    "\"\"\"\n",
    "from sklearn.preprocessing import PolynomialFeatures\n",
    "from sklearn.linear_model import LinearRegression\n",
    "\n",
    "X = np.array([[1, 2, 3, 4, 5, 6, 7, 8, 9, 10]]).T\n",
    "y = np.array([2, 4, 9, 16, 25, 36, 49, 64, 81, 100])\n",
    "\n",
    "poly_reg = PolynomialFeatures(degree=3)\n",
    "X_poly = poly_reg.fit_transform(X.reshape(-1, 1))\n",
    "lin_reg_2 = LinearRegression()\n",
    "lin_reg_2.fit(X_poly, y.reshape(-1, 1))\n",
    "y_pred = lin_reg_2.predict(X_poly)\n",
    "plt.scatter(X, y);\n",
    "plt.plot(X, y_pred);"
   ]
  }
 ],
 "metadata": {
  "kernelspec": {
   "display_name": "Python 3",
   "language": "python",
   "name": "python3"
  },
  "language_info": {
   "codemirror_mode": {
    "name": "ipython",
    "version": 3
   },
   "file_extension": ".py",
   "mimetype": "text/x-python",
   "name": "python",
   "nbconvert_exporter": "python",
   "pygments_lexer": "ipython3",
   "version": "3.6.8"
  }
 },
 "nbformat": 4,
 "nbformat_minor": 4
}
