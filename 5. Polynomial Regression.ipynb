{
 "cells": [
  {
   "cell_type": "markdown",
   "metadata": {},
   "source": [
    "<h3 style=\"text-align: center;\"><b>Implementing Polynomial Regression From Scratch</b></h3>\n",
    "<h5 style=\"text-align: center;\">This notebook follows the intuition from GeeksforGeeks <a href=\"https://www.geeksforgeeks.org/python-implementation-of-polynomial-regression/\">https://www.geeksforgeeks.org/python-implementation-of-polynomial-regression/</a> as well as the tutorial from <a href=\"https://rickwierenga.com/blog/ml-fundamentals/polynomial-regression.html\" target=\"_blank\">https://rickwierenga.com/blog/ml-fundamentals/polynomial-regression.html</a></h5>\n",
    "<h5 style=\"text-align: center;\">We explored linear regression simply being y = &alpha;x + &beta;. However, this is only for linear relationships of data. There are relationships between dependent and independent variables that are non- linear so we can use polynomial regression. </h5>\n",
    "$$ \\text{The generel form of polynomial regression can be modeled like this: } h_\\theta(x) = \\theta^T = \\theta_0 +\\theta_1x + \\theta_2x^2 + ... + \\theta_nx^n $$\n",
    "<h5 style=\"text-align: center;\">To find the best coefficients we use:</h5>\n",
    "$$ \\vec{\\theta} = (X^TX)^{-1}X^TY $$\n",
    "<h5 style=\"text-align: center;\">This is rather inefficient though so using gradient descent usually Mean Squared Error is the best course of action</h5>\n",
    "<h5 style=\"text-align: center;\">Gradient descent</h5>\n",
    "$$ J(\\theta) = \\frac{1}{n} \\sum_{i=1}^{n} (h_\\theta(x^i) - y^i)^2 $$"
   ]
  },
  {
   "cell_type": "markdown",
   "metadata": {},
   "source": [
    "<h5 style=\"text-align: center\">The h_&theta;(x) can be implemented in code like:</h5>"
   ]
  },
  {
   "cell_type": "code",
   "execution_count": 259,
   "metadata": {},
   "outputs": [],
   "source": [
    "import numpy as np\n",
    "import matplotlib.pyplot as plt\n",
    "def h(X, theta):\n",
    "    return np.dot(X, theta)"
   ]
  },
  {
   "cell_type": "markdown",
   "metadata": {},
   "source": [
    "<h5 style=\"text-align: center;\">The Gradiant is Calculated as Before</h5>"
   ]
  },
  {
   "cell_type": "code",
   "execution_count": 260,
   "metadata": {},
   "outputs": [
    {
     "name": "stdout",
     "output_type": "stream",
     "text": [
      "10 1\n",
      "(10,)\n"
     ]
    },
    {
     "data": {
      "text/plain": [
       "<matplotlib.collections.PathCollection at 0x21510d954e0>"
      ]
     },
     "execution_count": 260,
     "metadata": {},
     "output_type": "execute_result"
    },
    {
     "data": {
      "image/png": "[encoded data removed]",
      "text/plain": [
       "<Figure size 432x288 with 1 Axes>"
      ]
     },
     "metadata": {
      "needs_background": "light"
     },
     "output_type": "display_data"
    }
   ],
   "source": [
    "X = np.array([[1, 2, 3, 4, 5, 6, 7, 8, 9, 10]]).T\n",
    "y = np.array([2, 4, 9, 16, 25, 36, 49, 64, 81, 100])\n",
    "m, n = X.shape\n",
    "print(m, n)\n",
    "print(y.shape)\n",
    "plt.scatter(X, y)"
   ]
  },
  {
   "cell_type": "code",
   "execution_count": 261,
   "metadata": {},
   "outputs": [
    {
     "data": {
      "text/plain": [
       "array([[1.],\n",
       "       [1.],\n",
       "       [1.],\n",
       "       [1.],\n",
       "       [1.],\n",
       "       [1.],\n",
       "       [1.],\n",
       "       [1.],\n",
       "       [1.],\n",
       "       [1.]])"
      ]
     },
     "execution_count": 261,
     "metadata": {},
     "output_type": "execute_result"
    }
   ],
   "source": [
    "ones = np.ones((m, 1))\n",
    "ones"
   ]
  },
  {
   "cell_type": "code",
   "execution_count": 262,
   "metadata": {},
   "outputs": [
    {
     "name": "stdout",
     "output_type": "stream",
     "text": [
      "[[ 1.  1.]\n",
      " [ 1.  2.]\n",
      " [ 1.  3.]\n",
      " [ 1.  4.]\n",
      " [ 1.  5.]\n",
      " [ 1.  6.]\n",
      " [ 1.  7.]\n",
      " [ 1.  8.]\n",
      " [ 1.  9.]\n",
      " [ 1. 10.]]\n"
     ]
    },
    {
     "data": {
      "text/plain": [
       "(10, 2)"
      ]
     },
     "execution_count": 262,
     "metadata": {},
     "output_type": "execute_result"
    }
   ],
   "source": [
    "\"\"\"\n",
    "This just adds the array of 1s to X\n",
    "https://numpy.org/doc/stable/reference/generated/numpy.hstack.html\n",
    "\"\"\"\n",
    "X = np.hstack((ones, X))\n",
    "print(X)\n",
    "X.shape"
   ]
  },
  {
   "cell_type": "code",
   "execution_count": 263,
   "metadata": {},
   "outputs": [
    {
     "name": "stdout",
     "output_type": "stream",
     "text": [
      "[  1.   4.   9.  16.  25.  36.  49.  64.  81. 100.]\n",
      "[[  1.]\n",
      " [  4.]\n",
      " [  9.]\n",
      " [ 16.]\n",
      " [ 25.]\n",
      " [ 36.]\n",
      " [ 49.]\n",
      " [ 64.]\n",
      " [ 81.]\n",
      " [100.]]\n",
      "(10, 5)\n"
     ]
    }
   ],
   "source": [
    "\"\"\"\n",
    "For degree = 3 polynomials \n",
    "\"\"\"\n",
    "print(X[:, 1]**2)\n",
    "print((X[:, 1]**2).reshape((m, 1)))\n",
    "X = np.hstack((\n",
    "    X,\n",
    "    (X[:, 1] ** 2).reshape((m, 1)),\n",
    "    (X[:, 1] ** 3).reshape((m, 1)),\n",
    "    (X[:, 1] ** 4).reshape((m, 1))\n",
    "))\n",
    "print(X.shape)\n",
    "m, n = X.shape"
   ]
  },
  {
   "cell_type": "code",
   "execution_count": 276,
   "metadata": {},
   "outputs": [],
   "source": [
    "def grad(x, Y, epochs=50):\n",
    "    alpha = 0.01\n",
    "    theta = np.random.random(n)\n",
    "    for _ in range(epochs):\n",
    "        theta = theta - alpha * (1/m) * np.dot(x.T, (np.dot(x, theta) - Y))\n",
    "        #theta = theta - alpha * (1/m) * (x.T @ ((x @ theta) - Y))\n",
    "        print(theta)\n",
    "    return theta"
   ]
  },
  {
   "cell_type": "code",
   "execution_count": 277,
   "metadata": {},
   "outputs": [
    {
     "name": "stdout",
     "output_type": "stream",
     "text": [
      "[-1.77409493e+01 -1.58930561e+02 -1.42599864e+03 -1.30054424e+04\n",
      " -1.20474056e+05]\n",
      "[3.09185130e+06 2.69373702e+07 2.41253614e+08 2.20425836e+09\n",
      " 2.04451562e+10]\n",
      "[-5.24696327e+11 -4.57135549e+12 -4.09415077e+13 -3.74069791e+14\n",
      " -3.46961011e+15]\n",
      "[8.90426885e+16 7.75774028e+17 6.94790821e+18 6.34808711e+19\n",
      " 5.88804222e+20]\n",
      "[-1.51108364e+22 -1.31651398e+23 -1.17908282e+24 -1.07729122e+25\n",
      " -9.99220086e+25]\n",
      "[2.56435853e+27 2.23416743e+28 2.00094224e+29 1.82819854e+30\n",
      " 1.69570928e+31]\n",
      "[-4.35180058e+32 -3.79145545e+33 -3.39566465e+34 -3.10251293e+35\n",
      " -2.87767429e+36]\n",
      "[7.38514839e+37 6.43422432e+38 5.76255435e+39 5.26506625e+40\n",
      " 4.88350770e+41]\n",
      "[-1.25328392e+43 -1.09190898e+44 -9.77924383e+44 -8.93499020e+45\n",
      " -8.28747283e+46]\n",
      "[2.12686394e+48 1.85300537e+49 1.65956977e+50 1.51629716e+51\n",
      " 1.40641134e+52]\n",
      "[1.57670244e+52 2.37859206e+53 1.18168453e+54 3.70018760e+54\n",
      " 8.98385169e+54 1.85606989e+55 3.42962898e+55 5.83937241e+55\n",
      " 9.33936398e+55 1.42174214e+56]\n",
      "[  2   4   9  16  25  36  49  64  81 100]\n"
     ]
    }
   ],
   "source": [
    "theta = grad(X, y, 10)\n",
    "prediction = h(X, theta)\n",
    "print(prediction)\n",
    "print(y)"
   ]
  }
 ],
 "metadata": {
  "kernelspec": {
   "display_name": "Python 3",
   "language": "python",
   "name": "python3"
  },
  "language_info": {
   "codemirror_mode": {
    "name": "ipython",
    "version": 3
   },
   "file_extension": ".py",
   "mimetype": "text/x-python",
   "name": "python",
   "nbconvert_exporter": "python",
   "pygments_lexer": "ipython3",
   "version": "3.6.8"
  }
 },
 "nbformat": 4,
 "nbformat_minor": 4
}
