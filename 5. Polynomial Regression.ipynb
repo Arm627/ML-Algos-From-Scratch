{
 "cells": [
  {
   "cell_type": "markdown",
   "metadata": {},
   "source": [
    "<h3 style=\"text-align: center;\"><b>Implementing Polynomial Regression From Scratch</b></h3>\n",
    "<h5 style=\"text-align: center;\">This notebook follows the intuition from GeeksforGeeks <a href=\"https://www.geeksforgeeks.org/python-implementation-of-polynomial-regression/\">https://www.geeksforgeeks.org/python-implementation-of-polynomial-regression/</a> as well as the formulations from <a href=\"https://github.com/pickus91/Polynomial-Regression-From-Scratch\" target=\"_blank\">https://github.com/pickus91/Polynomial-Regression-From-Scratch</a></h5>\n",
    "<h5 style=\"text-align: center;\">We explored linear regression simply being y = &alpha;x + &beta;. However, this is only for linear relationships of data. There are relationships between dependent and independent variables that are non- linear so we can use polynomial regression. </h5>\n",
    "$$ \\text{The generel form of polynomial regression can be modeled like this: } h_\\theta(x) = \\theta^T = \\theta_0 +\\theta_1x + \\theta_2x^2 + ... + \\theta_nx^n $$\n",
    "<h5 style=\"text-align: center;\">To find the best coefficients we use:</h5>\n",
    "$$ \\vec{\\theta} = (X^TX)^{-1}X^TY $$\n",
    "<h5 style=\"text-align: center;\">Or use gradient descent</h5>\n",
    "$$ J(\\theta) = \\frac{1}{n} \\sum_{i=1}^{n} (h_\\theta(x^i) - y^i)^2 $$"
   ]
  },
  {
   "cell_type": "code",
   "execution_count": 19,
   "metadata": {},
   "outputs": [
    {
     "data": {
      "text/plain": [
       "array([-0.0e+00,  6.0e-05,  1.5e-04,  0.0e+00])"
      ]
     },
     "execution_count": 19,
     "metadata": {},
     "output_type": "execute_result"
    }
   ],
   "source": [
    "from random import random\n",
    "import numpy as np\n",
    "\n",
    "def poly_regression(X, Y):\n",
    "    X = np.reshape(np.array(X), (-1, 2)) # making input 2d\n",
    "    Y = np.reshape(np.array(Y), (-1, 2)) # making input 2d \n",
    "    n = len(X)\n",
    "    thetas = (np.linalg.inv((X.T*X))*X.T*Y).flatten()\n",
    "    return thetas\n",
    "    \n",
    "X = [0, 20, 40, 60]\n",
    "Y = [0.0002, 0.0012, 0.006, 0.03]\n",
    "poly_regression(X, Y)"
   ]
  },
  {
   "cell_type": "code",
   "execution_count": 23,
   "metadata": {},
   "outputs": [],
   "source": [
    "from math import pow\n",
    "class PolyRegressionUtils:\n",
    "    def coefficients(self, X, Y):\n",
    "        X = np.reshape(np.array(X), (-1, 2)) # making input 2d\n",
    "        Y = np.reshape(np.array(Y), (-1, 2)) # making input 2d \n",
    "        n = len(X)\n",
    "        thetas = (np.linalg.inv((X.T*X))*X.T*Y).flatten()\n",
    "        return thetas\n",
    "    \n",
    "class PolynomialRegression(PolyRegressionUtils):\n",
    "    def fit(self, X, Y):\n",
    "        self.X = X\n",
    "        self.Y = Y\n",
    "        self.coef_ = PolyRegressionUtils.coefficients(self, self.X, self.Y)\n",
    "        \n",
    "    def predict(self, x):\n",
    "        result = 0\n",
    "        for theta_index in range(len(self.coef_)):\n",
    "            result += self.coef_[theta_index]*pow(x, theta_index)\n",
    "        return result"
   ]
  },
  {
   "cell_type": "code",
   "execution_count": 36,
   "metadata": {},
   "outputs": [
    {
     "name": "stdout",
     "output_type": "stream",
     "text": [
      "Thetas:  [-0.0e+00  6.0e-05  1.5e-04  0.0e+00]\n",
      "Predict:  0.9648000000000001\n"
     ]
    }
   ],
   "source": [
    "X = [0, 20, 40, 60]\n",
    "Y = [0.0002, 0.0012, 0.006, 0.03]\n",
    "reg = PolynomialRegression()\n",
    "reg.fit(X, Y)\n",
    "print(\"Thetas: \", reg.coef_)\n",
    "print(\"Predict: \", reg.predict(80))"
   ]
  },
  {
   "cell_type": "code",
   "execution_count": null,
   "metadata": {},
   "outputs": [],
   "source": []
  }
 ],
 "metadata": {
  "kernelspec": {
   "display_name": "Python 3",
   "language": "python",
   "name": "python3"
  },
  "language_info": {
   "codemirror_mode": {
    "name": "ipython",
    "version": 3
   },
   "file_extension": ".py",
   "mimetype": "text/x-python",
   "name": "python",
   "nbconvert_exporter": "python",
   "pygments_lexer": "ipython3",
   "version": "3.6.8"
  }
 },
 "nbformat": 4,
 "nbformat_minor": 4
}
