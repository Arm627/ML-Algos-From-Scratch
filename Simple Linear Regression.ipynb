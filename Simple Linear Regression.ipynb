{
 "cells": [
  {
   "cell_type": "markdown",
   "metadata": {},
   "source": [
    "<h3 style=\"text-align: center;\"><b>Implementing Simple Linear Regression From Scratch</b> </h3>\n",
    "<h5 style=\"text-align: center;\"> <a href=\"https://machinelearningmastery.com/implement-simple-linear-regression-scratch-python/\" target=\"_blank\">https://machinelearningmastery.com/implement-simple-linear-regression-scratch-python/</a></h5>\n",
    "\n",
    "<h5 style=\"text-align: center;\"> <a href=\"https://en.wikipedia.org/wiki/Simple_linear_regression\" target=\"_blank\">https://en.wikipedia.org/wiki/Simple_linear_regression</a></h5>\n",
    "\n",
    "<h5 style=\"text-align: center;\">Linear regression assumes a linear or straight line relationship between the input variables (X) and the single output variable (y). </h5>\n",
    "\n",
    "<h5 style=\"text-align: center;\"><code>y = &alpha; x + &beta; </code></h5>\n",
    "<h5 style=\"text-align: center;\"> &alpha; and &beta; are estimated from the training data </h5>\n",
    "<h5 style=\"text-align: center;\"> We can estimate the coefficients as follows: </h5>\n",
    "$$ \\hat \\alpha = \\bar{y} - \\hat \\beta \\bar{x} $$\n",
    "<h5 style=\"text-align: center;\"> In code: <code>&alpha; = mean(y) - &beta; mean(x) </code></h5>\n",
    "$$ \\hat \\beta = \\frac{\\sum_{i=1}^{n} (x_i - \\bar{x})(y_i - \\bar{y})}{\\sum_{i=1}^{n} (x_i - \\bar{x})^2} $$\n",
    "<h5 style=\"text-align: center;\"> In code: <code>&beta; = sum((x(i) - mean(x)) * (y(i) - mean(y))) / sum( (x(i) - mean(x))^2 ) </code></h5>\n",
    "<h5 style=\"text-align: center;\"> Where the i refers to the value of the ith value of the input x or output y. </h5>"
   ]
  },
  {
   "cell_type": "code",
   "execution_count": null,
   "metadata": {},
   "outputs": [],
   "source": [
    "\"\"\"\n",
    "TODO: derivation and more mathematical explanation of simple linear regression\n",
    "\"\"\""
   ]
  },
  {
   "cell_type": "code",
   "execution_count": 38,
   "metadata": {},
   "outputs": [
    {
     "name": "stdout",
     "output_type": "stream",
     "text": [
      "(63,) (63,)\n"
     ]
    },
    {
     "data": {
      "image/png": "[encoded data removed]",
      "text/plain": [
       "<Figure size 432x288 with 1 Axes>"
      ]
     },
     "metadata": {
      "needs_background": "light"
     },
     "output_type": "display_data"
    }
   ],
   "source": [
    "import pandas\n",
    "import matplotlib.pyplot as plt\n",
    "\n",
    "data = pandas.read_csv(\"Data\\\\linear_data.csv\")\n",
    "data_X = data['X'].to_numpy()\n",
    "data_Y = data['Y'].to_numpy()\n",
    "print(data_X.shape, data_Y.shape)\n",
    "plt.scatter(data_Y, data_X)\n",
    "plt.show()"
   ]
  },
  {
   "cell_type": "markdown",
   "metadata": {},
   "source": [
    "<h4 style=\"text-align: center;\"> 1. Calculate Mean and Variance </h5>\n",
    "\n",
    "$$ \\text{Mean: } \\bar{X} = \\frac{\\sum_{i=1}^{n} x_i}{n} $$\n",
    "<h5 style=\"text-align: center;\"> n is number of terms </h5>\n",
    "<h5 style=\"text-align: center;\"> In code: <code>mean(x) = sum(x) / count(x) </code></h5>\n",
    "<h5 style=\"text-align: center;\"><a href=\"https://en.wikipedia.org/wiki/Mean\" target=\"_blank\">https://en.wikipedia.org/wiki/Mean</a></h5>\n",
    "$$ \\text{Variance: } \\sigma^2 = \\sum_{i=1}^{n} (x_i - \\bar{x})^2 $$\n",
    "<h5 style=\"text-align: center;\"> In code: <code>&sigma; = sum(x - mean(x))**2)</code></h5>\n",
    "<h5 style=\"text-align: center;\"><a href=\"https://en.wikipedia.org/wiki/Variance\" target=\"_blank\">https://en.wikipedia.org/wiki/Variance</a></h5>"
   ]
  },
  {
   "cell_type": "code",
   "execution_count": 37,
   "metadata": {},
   "outputs": [
    {
     "name": "stdout",
     "output_type": "stream",
     "text": [
      "Mean of inputs: 22.904761904761905 Mean of outputs: 47.26190476190475\n",
      "Variance of inputs: 33809.42857142858 Variance of outputs: 156734.40857142862\n"
     ]
    }
   ],
   "source": [
    "\"\"\"\n",
    "1. Mean and Variance\n",
    "\"\"\"\n",
    "from math import pow\n",
    "def mean(values):\n",
    "    \"\"\"\n",
    "    Input 1d array (values) -> Output a scalar value, the mean\n",
    "    \"\"\"\n",
    "    return (sum(values) / float(len(values)))\n",
    "\n",
    "def variance(values, mean):\n",
    "    \"\"\"\n",
    "    Input 1d array (values) and scalar value (mean) -> Output scalar value, the variance\n",
    "    \"\"\"\n",
    "    var = []\n",
    "    for x in values:\n",
    "        var.append(pow((x - mean), 2))\n",
    "    return sum(var)\n",
    "\n",
    "print(\"Mean of inputs:\", mean(data_X), \"Mean of outputs:\", mean(data_Y))\n",
    "print(\"Variance of inputs:\", variance(data_X, mean(data_X)), \"Variance of outputs:\", variance(data_Y, mean(data_Y)))"
   ]
  }
 ],
 "metadata": {
  "kernelspec": {
   "display_name": "Python 3",
   "language": "python",
   "name": "python3"
  },
  "language_info": {
   "codemirror_mode": {
    "name": "ipython",
    "version": 3
   },
   "file_extension": ".py",
   "mimetype": "text/x-python",
   "name": "python",
   "nbconvert_exporter": "python",
   "pygments_lexer": "ipython3",
   "version": "3.6.8"
  }
 },
 "nbformat": 4,
 "nbformat_minor": 4
}
